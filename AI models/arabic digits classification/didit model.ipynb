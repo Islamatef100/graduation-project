{
  "nbformat": 4,
  "nbformat_minor": 0,
  "metadata": {
    "colab": {
      "provenance": []
    },
    "kernelspec": {
      "name": "python3",
      "display_name": "Python 3"
    },
    "language_info": {
      "name": "python"
    }
  },
  "cells": [
    {
      "cell_type": "code",
      "execution_count": 5,
      "metadata": {
        "colab": {
          "base_uri": "https://localhost:8080/"
        },
        "id": "pSncL3Cq8WB4",
        "outputId": "5e8f4103-94a5-43d6-ff3a-c8fe8cae4715"
      },
      "outputs": [
        {
          "output_type": "execute_result",
          "data": {
            "text/plain": [
              "[70.82106018066406, 0.980798065662384]"
            ]
          },
          "metadata": {},
          "execution_count": 5
        }
      ],
      "source": [
        "import numpy as np\n",
        "# upload the model\n",
        "from tensorflow.keras import models\n",
        "# this saved model\n",
        "model = models.load_model(\"/content/Saved Model.h5\")\n",
        "\n",
        "import pandas as pd\n",
        "# upload testing data\n",
        "test = pd.read_csv(\"/content/y.csv\")\n",
        "# upload testing labels\n",
        "test_label = pd.read_csv(\"/content/y-label.csv\")\n",
        "# convert to array by numby \n",
        "import numpy as np\n",
        "Test = np.array(test)\n",
        "Test_label = np.array(test_label)\n",
        "# i don't need to do reshape becouse the inpute is 1D not 2D\n",
        "# convert the label to vector from 0 and the result cel is 1\n",
        "from sklearn.preprocessing import LabelBinarizer\n",
        "binencoder = LabelBinarizer()\n",
        "Test_label = binencoder.fit_transform(Test_label)\n",
        "# evaluate the model.\n",
        "scores = model.evaluate(Test, Test_label, verbose=0)\n",
        "# to print the result \n",
        "scores"
      ]
    },
    {
      "cell_type": "code",
      "source": [
        "\n",
        "\n",
        "#predict the result\n",
        "result = model.predict(Test[20].reshape(-1,784))\n",
        "     \n"
      ],
      "metadata": {
        "colab": {
          "base_uri": "https://localhost:8080/"
        },
        "id": "0XpKKW_388mB",
        "outputId": "23ce5758-4d10-4223-d0a7-0552b961b4da"
      },
      "execution_count": 9,
      "outputs": [
        {
          "output_type": "stream",
          "name": "stdout",
          "text": [
            "1/1 [==============================] - 0s 31ms/step\n"
          ]
        }
      ]
    },
    {
      "cell_type": "code",
      "source": [
        "np.argmax(result)"
      ],
      "metadata": {
        "colab": {
          "base_uri": "https://localhost:8080/"
        },
        "id": "IUGnEDrx8_qp",
        "outputId": "7030eb30-2213-4f55-cd80-0d1b44541dae"
      },
      "execution_count": 10,
      "outputs": [
        {
          "output_type": "execute_result",
          "data": {
            "text/plain": [
              "1"
            ]
          },
          "metadata": {},
          "execution_count": 10
        }
      ]
    },
    {
      "cell_type": "code",
      "source": [
        "np.argmax(Test_label[20])"
      ],
      "metadata": {
        "colab": {
          "base_uri": "https://localhost:8080/"
        },
        "id": "U1AEiwZI9BYg",
        "outputId": "b65b4150-2ef5-4403-c0db-8a867b5954eb"
      },
      "execution_count": 11,
      "outputs": [
        {
          "output_type": "execute_result",
          "data": {
            "text/plain": [
              "1"
            ]
          },
          "metadata": {},
          "execution_count": 11
        }
      ]
    },
    {
      "cell_type": "code",
      "source": [
        "import numpy as np\n",
        "import matplotlib.pyplot as plt\n",
        "image = Test\n",
        "imges = np.array(image)\n",
        "im = imges.reshape(-1,28,28)\n",
        "plt.imshow(im[20], cmap='gray')"
      ],
      "metadata": {
        "colab": {
          "base_uri": "https://localhost:8080/",
          "height": 283
        },
        "id": "UM9lDi7aCPQB",
        "outputId": "86f507a4-485d-4b22-f168-ee5ce8d3b91a"
      },
      "execution_count": 18,
      "outputs": [
        {
          "output_type": "execute_result",
          "data": {
            "text/plain": [
              "<matplotlib.image.AxesImage at 0x7f61d5f25cd0>"
            ]
          },
          "metadata": {},
          "execution_count": 18
        },
        {
          "output_type": "display_data",
          "data": {
            "text/plain": [
              "<Figure size 432x288 with 1 Axes>"
            ],
            "image/png": "[encoded data removed]"
          },
          "metadata": {
            "needs_background": "light"
          }
        }
      ]
    }
  ]
}