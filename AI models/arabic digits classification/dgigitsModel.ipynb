{
  "nbformat": 4,
  "nbformat_minor": 0,
  "metadata": {
    "colab": {
      "provenance": []
    },
    "kernelspec": {
      "name": "python3",
      "display_name": "Python 3"
    },
    "language_info": {
      "name": "python"
    }
  },
  "cells": [
    {
      "cell_type": "code",
      "source": [],
      "metadata": {
        "id": "X67Sl9e6XUTP"
      },
      "execution_count": null,
      "outputs": []
    },
    {
      "cell_type": "code",
      "execution_count": 34,
      "metadata": {
        "colab": {
          "base_uri": "https://localhost:8080/"
        },
        "id": "iCmfePNMVqjr",
        "outputId": "f81bc1d2-6eba-4889-afe9-1ced2389f7e3"
      },
      "outputs": [
        {
          "output_type": "execute_result",
          "data": {
            "text/plain": [
              "[70.82106018066406, 0.980798065662384]"
            ]
          },
          "metadata": {},
          "execution_count": 34
        }
      ],
      "source": [
        "import numpy as np\n",
        "# upload the model\n",
        "from tensorflow.keras import models\n",
        "# this saved model\n",
        "model = models.load_model(\"/content/best_mode_digitsl.h5\")\n",
        "\n",
        "import pandas as pd\n",
        "# upload testing data\n",
        "test = pd.read_csv(\"/content/y.csv\")\n",
        "# upload testing labels\n",
        "test_label = pd.read_csv(\"/content/y-label.csv\")\n",
        "# convert to array by numby \n",
        "import numpy as np\n",
        "Test = np.array(test)\n",
        "Test_label = np.array(test_label)\n",
        "# i don't need to do reshape becouse the inpute is 1D not 2D\n",
        "# convert the label to vector from 0 and the result cel is 1\n",
        "from sklearn.preprocessing import LabelBinarizer\n",
        "binencoder = LabelBinarizer()\n",
        "Test_label = binencoder.fit_transform(Test_label)\n",
        "# evaluate the model.\n",
        "scores = model.evaluate(Test, Test_label, verbose=0)\n",
        "# to print the result \n",
        "scores"
      ]
    },
    {
      "cell_type": "code",
      "source": [
        "#predict the result\n",
        "result = model.predict(Test[5].reshape(-1,784))"
      ],
      "metadata": {
        "colab": {
          "base_uri": "https://localhost:8080/"
        },
        "id": "mPCmtLjQYgeL",
        "outputId": "3f644408-b747-4f04-b0ce-4f546866114f"
      },
      "execution_count": 35,
      "outputs": [
        {
          "output_type": "stream",
          "name": "stdout",
          "text": [
            "1/1 [==============================] - 0s 96ms/step\n"
          ]
        }
      ]
    },
    {
      "cell_type": "code",
      "source": [
        "np.argmax(result)"
      ],
      "metadata": {
        "colab": {
          "base_uri": "https://localhost:8080/"
        },
        "id": "kmdH5-gXcreH",
        "outputId": "1300074e-9579-43c1-913a-f4f9b828e338"
      },
      "execution_count": 43,
      "outputs": [
        {
          "output_type": "execute_result",
          "data": {
            "text/plain": [
              "6"
            ]
          },
          "metadata": {},
          "execution_count": 43
        }
      ]
    },
    {
      "cell_type": "code",
      "source": [
        "np.argmax(Test_label[5])"
      ],
      "metadata": {
        "colab": {
          "base_uri": "https://localhost:8080/"
        },
        "id": "gySpRizyecnL",
        "outputId": "e5e90145-a8fa-4e71-93e7-ea997f4072f8"
      },
      "execution_count": 46,
      "outputs": [
        {
          "output_type": "execute_result",
          "data": {
            "text/plain": [
              "6"
            ]
          },
          "metadata": {},
          "execution_count": 46
        }
      ]
    }
  ]
}