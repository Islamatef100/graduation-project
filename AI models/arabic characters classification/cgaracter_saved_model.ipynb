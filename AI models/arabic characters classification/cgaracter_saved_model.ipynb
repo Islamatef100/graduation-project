{
  "nbformat": 4,
  "nbformat_minor": 0,
  "metadata": {
    "colab": {
      "provenance": []
    },
    "kernelspec": {
      "name": "python3",
      "display_name": "Python 3"
    },
    "language_info": {
      "name": "python"
    }
  },
  "cells": [
    {
      "cell_type": "code",
      "source": [
        "character = ['ا','ب','ت','ث','ج','ح','خ','د','ذ','ر','ز','س','ش','ص','ض','ط','ظ','ع','غ','ف','ق','ك','ل','م','ن','هـ','و','ي']"
      ],
      "metadata": {
        "id": "fUi5AoXOIv-k"
      },
      "execution_count": 17,
      "outputs": []
    },
    {
      "cell_type": "code",
      "source": [],
      "metadata": {
        "colab": {
          "base_uri": "https://localhost:8080/",
          "height": 36
        },
        "id": "Pf2_VbStJ5Lq",
        "outputId": "c130433f-8df6-419f-c83e-013871078402"
      },
      "execution_count": 18,
      "outputs": [
        {
          "output_type": "execute_result",
          "data": {
            "text/plain": [
              "'ب'"
            ],
            "application/vnd.google.colaboratory.intrinsic+json": {
              "type": "string"
            }
          },
          "metadata": {},
          "execution_count": 18
        }
      ]
    },
    {
      "cell_type": "code",
      "execution_count": 2,
      "metadata": {
        "colab": {
          "base_uri": "https://localhost:8080/"
        },
        "id": "2Qcdp4-6GiXy",
        "outputId": "c30847fc-989b-4d50-b048-92fb997e147d"
      },
      "outputs": [
        {
          "output_type": "execute_result",
          "data": {
            "text/plain": [
              "[172.46121215820312, 0.8186960220336914]"
            ]
          },
          "metadata": {},
          "execution_count": 2
        }
      ],
      "source": [
        "import numpy as np\n",
        "# upload the model\n",
        "from tensorflow.keras import models\n",
        "# this saved model\n",
        "model = models.load_model(\"/content/best_model.h5\")\n",
        "\n",
        "import pandas as pd\n",
        "# upload testing data\n",
        "test = pd.read_csv(\"/content/csvTestImages 3360x1024.csv\")\n",
        "# upload testing labels\n",
        "test_label = pd.read_csv(\"/content/csvTestLabel 3360x1.csv\")\n",
        "# convert to array by numby \n",
        "import numpy as np\n",
        "Test = np.array(test)\n",
        "Test_label = np.array(test_label)\n",
        "# i don't need to do reshape becouse the inpute is 1D not 2D\n",
        "# convert the label to vector from 0 and the result cel is 1\n",
        "from sklearn.preprocessing import LabelBinarizer\n",
        "binencoder = LabelBinarizer()\n",
        "Test_label = binencoder.fit_transform(Test_label)\n",
        "# evaluate the model.\n",
        "scores = model.evaluate(Test.reshape(-1,32,32), Test_label, verbose=0)\n",
        "# to print the result \n",
        "scores"
      ]
    },
    {
      "cell_type": "code",
      "source": [
        "\n",
        "\n",
        "#predict the result\n",
        "result = model.predict(Test[200].reshape(-1,32,32))\n",
        "     \n"
      ],
      "metadata": {
        "colab": {
          "base_uri": "https://localhost:8080/"
        },
        "id": "nzdc317XIR9f",
        "outputId": "a3a8671a-56f3-41f7-fbb3-7ec4c54b3f67"
      },
      "execution_count": 29,
      "outputs": [
        {
          "output_type": "stream",
          "name": "stdout",
          "text": [
            "1/1 [==============================] - 0s 24ms/step\n"
          ]
        }
      ]
    },
    {
      "cell_type": "code",
      "source": [
        "character[np.argmax(result)]"
      ],
      "metadata": {
        "colab": {
          "base_uri": "https://localhost:8080/",
          "height": 36
        },
        "id": "4acyIsZaIYUN",
        "outputId": "ed999ccb-6c98-4e7f-9387-b6197f09bdda"
      },
      "execution_count": 32,
      "outputs": [
        {
          "output_type": "execute_result",
          "data": {
            "text/plain": [
              "'ط'"
            ],
            "application/vnd.google.colaboratory.intrinsic+json": {
              "type": "string"
            }
          },
          "metadata": {},
          "execution_count": 32
        }
      ]
    },
    {
      "cell_type": "code",
      "source": [
        "character[np.argmax(Test_label[200])]"
      ],
      "metadata": {
        "colab": {
          "base_uri": "https://localhost:8080/",
          "height": 36
        },
        "id": "6T7RbfPEIY1P",
        "outputId": "7f40c32c-caf9-4558-a0b9-05309ec1b0bf"
      },
      "execution_count": 31,
      "outputs": [
        {
          "output_type": "execute_result",
          "data": {
            "text/plain": [
              "'ظ'"
            ],
            "application/vnd.google.colaboratory.intrinsic+json": {
              "type": "string"
            }
          },
          "metadata": {},
          "execution_count": 31
        }
      ]
    },
    {
      "cell_type": "code",
      "source": [
        "import numpy as np\n",
        "import matplotlib.pyplot as plt\n",
        "image = Test\n",
        "imges = np.array(image)\n",
        "im = imges.reshape(-1,32,32)\n",
        "plt.imshow(im[200], cmap='gray')"
      ],
      "metadata": {
        "colab": {
          "base_uri": "https://localhost:8080/",
          "height": 284
        },
        "id": "RK1GE1EVIl6s",
        "outputId": "a5b9eed7-fbd6-411e-d09c-bf8ac9e8d840"
      },
      "execution_count": 30,
      "outputs": [
        {
          "output_type": "execute_result",
          "data": {
            "text/plain": [
              "<matplotlib.image.AxesImage at 0x7f59c65807f0>"
            ]
          },
          "metadata": {},
          "execution_count": 30
        },
        {
          "output_type": "display_data",
          "data": {
            "text/plain": [
              "<Figure size 432x288 with 1 Axes>"
            ],
            "image/png": "[encoded data removed]"
          },
          "metadata": {
            "needs_background": "light"
          }
        }
      ]
    }
  ]
}